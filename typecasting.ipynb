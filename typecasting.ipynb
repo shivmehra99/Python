{
 "cells": [
  {
   "cell_type": "markdown",
   "id": "15acff43-f301-4ef4-9420-c5bc4a8b9840",
   "metadata": {},
   "source": [
    "### Typecating"
   ]
  },
  {
   "cell_type": "code",
   "execution_count": 1,
   "id": "8c874662-83fb-4b3c-a894-b65b044497b7",
   "metadata": {},
   "outputs": [],
   "source": [
    "var = \"hello\""
   ]
  },
  {
   "cell_type": "code",
   "execution_count": 2,
   "id": "42621039-62e3-44d0-90b6-eda36f2c3cdf",
   "metadata": {},
   "outputs": [
    {
     "data": {
      "text/plain": [
       "str"
      ]
     },
     "execution_count": 2,
     "metadata": {},
     "output_type": "execute_result"
    }
   ],
   "source": [
    "type(var)"
   ]
  },
  {
   "cell_type": "code",
   "execution_count": 3,
   "id": "b9265b88-0f80-44c1-a76d-14008c635c45",
   "metadata": {},
   "outputs": [
    {
     "ename": "ValueError",
     "evalue": "invalid literal for int() with base 10: 'hello'",
     "output_type": "error",
     "traceback": [
      "\u001b[1;31m---------------------------------------------------------------------------\u001b[0m",
      "\u001b[1;31mValueError\u001b[0m                                Traceback (most recent call last)",
      "Cell \u001b[1;32mIn[3], line 1\u001b[0m\n\u001b[1;32m----> 1\u001b[0m \u001b[38;5;28mint\u001b[39m (var)\n",
      "\u001b[1;31mValueError\u001b[0m: invalid literal for int() with base 10: 'hello'"
     ]
    }
   ],
   "source": [
    "int (var)"
   ]
  },
  {
   "cell_type": "code",
   "execution_count": 4,
   "id": "f4b5e792-1fdd-4913-a436-2dcdd4d67656",
   "metadata": {},
   "outputs": [],
   "source": [
    "num = 76567"
   ]
  },
  {
   "cell_type": "code",
   "execution_count": 5,
   "id": "67f989c5-79b4-4873-817a-96ebb72aa0c4",
   "metadata": {},
   "outputs": [
    {
     "data": {
      "text/plain": [
       "'76567'"
      ]
     },
     "execution_count": 5,
     "metadata": {},
     "output_type": "execute_result"
    }
   ],
   "source": [
    "str(num)"
   ]
  },
  {
   "cell_type": "code",
   "execution_count": 6,
   "id": "77fcb9ce-3fa5-491c-990e-b2c7f9553998",
   "metadata": {},
   "outputs": [
    {
     "data": {
      "text/plain": [
       "'hello'"
      ]
     },
     "execution_count": 6,
     "metadata": {},
     "output_type": "execute_result"
    }
   ],
   "source": [
    "var"
   ]
  },
  {
   "cell_type": "code",
   "execution_count": 14,
   "id": "78f7136f-8e43-4b0a-8994-b05dd78a6211",
   "metadata": {},
   "outputs": [],
   "source": [
    "l1 = list(var)"
   ]
  },
  {
   "cell_type": "code",
   "execution_count": 8,
   "id": "a2deb13d-ee41-4cc9-a237-e5e3e2883037",
   "metadata": {},
   "outputs": [
    {
     "data": {
      "text/plain": [
       "('h', 'e', 'l', 'l', 'o')"
      ]
     },
     "execution_count": 8,
     "metadata": {},
     "output_type": "execute_result"
    }
   ],
   "source": [
    "tuple(var)"
   ]
  },
  {
   "cell_type": "code",
   "execution_count": 22,
   "id": "bec58cc0-9a11-40ca-be95-8807da194413",
   "metadata": {},
   "outputs": [],
   "source": [
    "s1 = set(var)"
   ]
  },
  {
   "cell_type": "code",
   "execution_count": 10,
   "id": "e4fe4402-c5e5-4eb1-a82a-3b3445b483aa",
   "metadata": {},
   "outputs": [
    {
     "ename": "ValueError",
     "evalue": "dictionary update sequence element #0 has length 1; 2 is required",
     "output_type": "error",
     "traceback": [
      "\u001b[1;31m---------------------------------------------------------------------------\u001b[0m",
      "\u001b[1;31mValueError\u001b[0m                                Traceback (most recent call last)",
      "Cell \u001b[1;32mIn[10], line 1\u001b[0m\n\u001b[1;32m----> 1\u001b[0m \u001b[38;5;28mdict\u001b[39m(var)\n",
      "\u001b[1;31mValueError\u001b[0m: dictionary update sequence element #0 has length 1; 2 is required"
     ]
    }
   ],
   "source": [
    "dict(var)"
   ]
  },
  {
   "cell_type": "code",
   "execution_count": 11,
   "id": "0e2fb396-7dd8-48c6-bbf9-25f4c465caf9",
   "metadata": {},
   "outputs": [],
   "source": [
    "dict = {\"a\":1, \"b\":2}"
   ]
  },
  {
   "cell_type": "code",
   "execution_count": 12,
   "id": "dad1a622-3b7f-43b8-b89e-1eb84bc8c374",
   "metadata": {},
   "outputs": [
    {
     "data": {
      "text/plain": [
       "['a', 'b']"
      ]
     },
     "execution_count": 12,
     "metadata": {},
     "output_type": "execute_result"
    }
   ],
   "source": [
    "list(dict)"
   ]
  },
  {
   "cell_type": "code",
   "execution_count": 13,
   "id": "57fdcf0f-28d9-4f5b-81ad-b56bebca80ac",
   "metadata": {},
   "outputs": [
    {
     "data": {
      "text/plain": [
       "('a', 'b')"
      ]
     },
     "execution_count": 13,
     "metadata": {},
     "output_type": "execute_result"
    }
   ],
   "source": [
    "tuple(dict)"
   ]
  },
  {
   "cell_type": "code",
   "execution_count": 16,
   "id": "1e8f2a34-2d46-4ec4-be66-d3868daa6fb9",
   "metadata": {},
   "outputs": [],
   "source": [
    "a, b, c, d, e = l1"
   ]
  },
  {
   "cell_type": "code",
   "execution_count": 17,
   "id": "a4fcf92d-8e98-4826-bbd9-2d7ce949ace7",
   "metadata": {},
   "outputs": [
    {
     "data": {
      "text/plain": [
       "'h'"
      ]
     },
     "execution_count": 17,
     "metadata": {},
     "output_type": "execute_result"
    }
   ],
   "source": [
    "a"
   ]
  },
  {
   "cell_type": "code",
   "execution_count": 18,
   "id": "dde414b3-251c-4869-aaa2-474ba785ef40",
   "metadata": {},
   "outputs": [
    {
     "data": {
      "text/plain": [
       "'e'"
      ]
     },
     "execution_count": 18,
     "metadata": {},
     "output_type": "execute_result"
    }
   ],
   "source": [
    "b"
   ]
  },
  {
   "cell_type": "code",
   "execution_count": 19,
   "id": "90f8d81c-7735-4fda-a62f-197716287700",
   "metadata": {},
   "outputs": [
    {
     "data": {
      "text/plain": [
       "'l'"
      ]
     },
     "execution_count": 19,
     "metadata": {},
     "output_type": "execute_result"
    }
   ],
   "source": [
    "c"
   ]
  },
  {
   "cell_type": "code",
   "execution_count": 20,
   "id": "7148b667-5e57-47ac-91ab-370d891fc963",
   "metadata": {},
   "outputs": [
    {
     "data": {
      "text/plain": [
       "'l'"
      ]
     },
     "execution_count": 20,
     "metadata": {},
     "output_type": "execute_result"
    }
   ],
   "source": [
    "d"
   ]
  },
  {
   "cell_type": "code",
   "execution_count": 21,
   "id": "d9bbb386-b415-46f5-95ee-9e31160eb674",
   "metadata": {},
   "outputs": [
    {
     "data": {
      "text/plain": [
       "'o'"
      ]
     },
     "execution_count": 21,
     "metadata": {},
     "output_type": "execute_result"
    }
   ],
   "source": [
    "e"
   ]
  },
  {
   "cell_type": "code",
   "execution_count": 23,
   "id": "02c82150-c8e4-46c2-a399-4d0cb61e7c9d",
   "metadata": {},
   "outputs": [],
   "source": [
    "a1, b1, c1, d1 = s1"
   ]
  },
  {
   "cell_type": "code",
   "execution_count": 24,
   "id": "7e2cb428-7d46-4b2c-b5de-d32c96916c46",
   "metadata": {},
   "outputs": [
    {
     "data": {
      "text/plain": [
       "'e'"
      ]
     },
     "execution_count": 24,
     "metadata": {},
     "output_type": "execute_result"
    }
   ],
   "source": [
    "a1"
   ]
  },
  {
   "cell_type": "code",
   "execution_count": 25,
   "id": "0bbc2b49-a6ad-49a1-bc52-074916e7222c",
   "metadata": {},
   "outputs": [
    {
     "data": {
      "text/plain": [
       "'o'"
      ]
     },
     "execution_count": 25,
     "metadata": {},
     "output_type": "execute_result"
    }
   ],
   "source": [
    "b1"
   ]
  },
  {
   "cell_type": "code",
   "execution_count": 26,
   "id": "d2c51ac0-1019-4b0e-a424-643f47976a74",
   "metadata": {},
   "outputs": [
    {
     "data": {
      "text/plain": [
       "'h'"
      ]
     },
     "execution_count": 26,
     "metadata": {},
     "output_type": "execute_result"
    }
   ],
   "source": [
    "c1"
   ]
  },
  {
   "cell_type": "code",
   "execution_count": 27,
   "id": "b498bfd6-a20f-49e7-959b-febac1eae4d5",
   "metadata": {},
   "outputs": [
    {
     "data": {
      "text/plain": [
       "{'e', 'h', 'l', 'o'}"
      ]
     },
     "execution_count": 27,
     "metadata": {},
     "output_type": "execute_result"
    }
   ],
   "source": [
    "s1"
   ]
  },
  {
   "cell_type": "code",
   "execution_count": null,
   "id": "3c69dc5f-a066-440b-966e-94ac68b59e72",
   "metadata": {},
   "outputs": [],
   "source": [
    "print()"
   ]
  },
  {
   "cell_type": "code",
   "execution_count": 28,
   "id": "3f09c9c8-d68f-4cbc-9c1b-866efa49212c",
   "metadata": {},
   "outputs": [
    {
     "data": {
      "text/plain": [
       "'h'"
      ]
     },
     "execution_count": 28,
     "metadata": {},
     "output_type": "execute_result"
    }
   ],
   "source": [
    "a"
   ]
  },
  {
   "cell_type": "code",
   "execution_count": 30,
   "id": "a26a13ad-cad4-4607-ac8c-e03a54a85735",
   "metadata": {},
   "outputs": [
    {
     "name": "stdout",
     "output_type": "stream",
     "text": [
      "h e l e o\n"
     ]
    }
   ],
   "source": [
    "print(a, b, c, a1, b1)"
   ]
  },
  {
   "cell_type": "code",
   "execution_count": 33,
   "id": "c7c30fa6-047f-4337-9e54-28e8f5928763",
   "metadata": {},
   "outputs": [
    {
     "name": "stdin",
     "output_type": "stream",
     "text": [
      " 276\n"
     ]
    }
   ],
   "source": [
    "var1 = input()"
   ]
  },
  {
   "cell_type": "code",
   "execution_count": 35,
   "id": "95ff4b7c-7f5d-416f-b5e2-fff28fa0e874",
   "metadata": {},
   "outputs": [
    {
     "data": {
      "text/plain": [
       "str"
      ]
     },
     "execution_count": 35,
     "metadata": {},
     "output_type": "execute_result"
    }
   ],
   "source": [
    "type(var1)"
   ]
  },
  {
   "cell_type": "code",
   "execution_count": 36,
   "id": "9ae67fae-7fa8-453f-8ef6-c8b3f4429ebd",
   "metadata": {},
   "outputs": [
    {
     "name": "stdin",
     "output_type": "stream",
     "text": [
      " 76576\n"
     ]
    }
   ],
   "source": [
    "var2 = int(input())"
   ]
  },
  {
   "cell_type": "code",
   "execution_count": 37,
   "id": "2cc505be-7b61-4a6a-bb1c-b0503466476f",
   "metadata": {},
   "outputs": [
    {
     "data": {
      "text/plain": [
       "76576"
      ]
     },
     "execution_count": 37,
     "metadata": {},
     "output_type": "execute_result"
    }
   ],
   "source": [
    "var2"
   ]
  },
  {
   "cell_type": "code",
   "execution_count": 42,
   "id": "8915034e-9859-40d8-b5b4-50608d7c2438",
   "metadata": {},
   "outputs": [
    {
     "name": "stdout",
     "output_type": "stream",
     "text": [
      "java 7576 True\n"
     ]
    }
   ],
   "source": [
    "print(\"java\", 7576, True)"
   ]
  },
  {
   "cell_type": "code",
   "execution_count": 43,
   "id": "e85d0a1a-6587-4d7e-ad42-a87ef6dd463c",
   "metadata": {},
   "outputs": [
    {
     "data": {
      "text/plain": [
       "['h', 'e', 'l', 'l', 'o']"
      ]
     },
     "execution_count": 43,
     "metadata": {},
     "output_type": "execute_result"
    }
   ],
   "source": [
    "l1"
   ]
  },
  {
   "cell_type": "code",
   "execution_count": 44,
   "id": "825baf34-57db-415e-b1e3-53aad07d15e8",
   "metadata": {},
   "outputs": [
    {
     "data": {
      "text/plain": [
       "5"
      ]
     },
     "execution_count": 44,
     "metadata": {},
     "output_type": "execute_result"
    }
   ],
   "source": [
    "len(l1)"
   ]
  },
  {
   "cell_type": "code",
   "execution_count": 47,
   "id": "acfd7484-98d2-456a-8e67-471e74a9c603",
   "metadata": {},
   "outputs": [
    {
     "data": {
      "text/plain": [
       "5"
      ]
     },
     "execution_count": 47,
     "metadata": {},
     "output_type": "execute_result"
    }
   ],
   "source": [
    "len(var)"
   ]
  },
  {
   "cell_type": "code",
   "execution_count": 49,
   "id": "56342386-0b6c-496f-bfca-f949d3aac009",
   "metadata": {},
   "outputs": [
    {
     "data": {
      "text/plain": [
       "11"
      ]
     },
     "execution_count": 49,
     "metadata": {},
     "output_type": "execute_result"
    }
   ],
   "source": [
    "len('   c++     ')"
   ]
  },
  {
   "cell_type": "code",
   "execution_count": 50,
   "id": "1571c1ff-376c-46c5-84eb-893b0bafc6ad",
   "metadata": {},
   "outputs": [
    {
     "data": {
      "text/plain": [
       "{'e', 'h', 'l', 'o'}"
      ]
     },
     "execution_count": 50,
     "metadata": {},
     "output_type": "execute_result"
    }
   ],
   "source": [
    "s1"
   ]
  },
  {
   "cell_type": "code",
   "execution_count": 51,
   "id": "f4555c66-ff60-4ada-bcf8-cb03d48f88fc",
   "metadata": {},
   "outputs": [
    {
     "data": {
      "text/plain": [
       "['h', 'e', 'l', 'l', 'o']"
      ]
     },
     "execution_count": 51,
     "metadata": {},
     "output_type": "execute_result"
    }
   ],
   "source": [
    "l1"
   ]
  },
  {
   "cell_type": "code",
   "execution_count": 53,
   "id": "c5a5a1a9-11e2-49ea-bc53-fcdfc2bacb41",
   "metadata": {},
   "outputs": [
    {
     "data": {
      "text/plain": [
       "4"
      ]
     },
     "execution_count": 53,
     "metadata": {},
     "output_type": "execute_result"
    }
   ],
   "source": [
    "len(s1)"
   ]
  },
  {
   "cell_type": "code",
   "execution_count": 54,
   "id": "e8dd3f04-6c78-49d7-8a66-a0d8d3132279",
   "metadata": {},
   "outputs": [
    {
     "data": {
      "text/plain": [
       "5"
      ]
     },
     "execution_count": 54,
     "metadata": {},
     "output_type": "execute_result"
    }
   ],
   "source": [
    "len(l1)"
   ]
  },
  {
   "cell_type": "code",
   "execution_count": 56,
   "id": "da0e2541-187b-47a1-ba72-db2cb347153c",
   "metadata": {},
   "outputs": [
    {
     "ename": "TypeError",
     "evalue": "type() takes 1 or 3 arguments",
     "output_type": "error",
     "traceback": [
      "\u001b[1;31m---------------------------------------------------------------------------\u001b[0m",
      "\u001b[1;31mTypeError\u001b[0m                                 Traceback (most recent call last)",
      "Cell \u001b[1;32mIn[56], line 1\u001b[0m\n\u001b[1;32m----> 1\u001b[0m \u001b[38;5;28mtype\u001b[39m(s1, l1)\n",
      "\u001b[1;31mTypeError\u001b[0m: type() takes 1 or 3 arguments"
     ]
    }
   ],
   "source": [
    "type(s1, l1)"
   ]
  },
  {
   "cell_type": "code",
   "execution_count": 58,
   "id": "b45d3812-62a2-403c-a097-799813ffb356",
   "metadata": {},
   "outputs": [
    {
     "data": {
      "text/plain": [
       "['h', 'e', 'l', 'l', 'o']"
      ]
     },
     "execution_count": 58,
     "metadata": {},
     "output_type": "execute_result"
    }
   ],
   "source": [
    "l1"
   ]
  },
  {
   "cell_type": "code",
   "execution_count": 57,
   "id": "1e70ad14-ca43-4bc1-8b6b-f9506fa7cce4",
   "metadata": {},
   "outputs": [
    {
     "data": {
      "text/plain": [
       "'o'"
      ]
     },
     "execution_count": 57,
     "metadata": {},
     "output_type": "execute_result"
    }
   ],
   "source": [
    "max(l1)"
   ]
  },
  {
   "cell_type": "code",
   "execution_count": 59,
   "id": "e38760bd-243e-413c-bf3e-8991c87b8047",
   "metadata": {},
   "outputs": [
    {
     "data": {
      "text/plain": [
       "'e'"
      ]
     },
     "execution_count": 59,
     "metadata": {},
     "output_type": "execute_result"
    }
   ],
   "source": [
    "min(l1)"
   ]
  },
  {
   "cell_type": "code",
   "execution_count": 61,
   "id": "c0411f72-e3f7-4b03-965e-152c27ecb361",
   "metadata": {},
   "outputs": [
    {
     "data": {
      "text/plain": [
       "1"
      ]
     },
     "execution_count": 61,
     "metadata": {},
     "output_type": "execute_result"
    }
   ],
   "source": [
    "min([2,3,4,1,2,5,6,3])"
   ]
  },
  {
   "cell_type": "code",
   "execution_count": 62,
   "id": "c74979db-69cb-4256-9cad-21342438f251",
   "metadata": {},
   "outputs": [
    {
     "data": {
      "text/plain": [
       "26"
      ]
     },
     "execution_count": 62,
     "metadata": {},
     "output_type": "execute_result"
    }
   ],
   "source": [
    "sum([2,3,4,1,2,5,6,3])"
   ]
  },
  {
   "cell_type": "code",
   "execution_count": 63,
   "id": "cf31f55b-897e-4560-960c-00d59f10003a",
   "metadata": {},
   "outputs": [
    {
     "ename": "TypeError",
     "evalue": "unsupported operand type(s) for +: 'int' and 'str'",
     "output_type": "error",
     "traceback": [
      "\u001b[1;31m---------------------------------------------------------------------------\u001b[0m",
      "\u001b[1;31mTypeError\u001b[0m                                 Traceback (most recent call last)",
      "Cell \u001b[1;32mIn[63], line 1\u001b[0m\n\u001b[1;32m----> 1\u001b[0m \u001b[38;5;28msum\u001b[39m(l1)\n",
      "\u001b[1;31mTypeError\u001b[0m: unsupported operand type(s) for +: 'int' and 'str'"
     ]
    }
   ],
   "source": [
    "sum(l1)"
   ]
  },
  {
   "cell_type": "code",
   "execution_count": 64,
   "id": "eb08270e-2750-40e7-9721-7ef6eae2fa6a",
   "metadata": {},
   "outputs": [
    {
     "data": {
      "text/plain": [
       "'276'"
      ]
     },
     "execution_count": 64,
     "metadata": {},
     "output_type": "execute_result"
    }
   ],
   "source": [
    "var1"
   ]
  },
  {
   "cell_type": "code",
   "execution_count": 65,
   "id": "f98906be-02c5-4a6a-837a-ea28c5e67f36",
   "metadata": {},
   "outputs": [],
   "source": [
    "del(var1)"
   ]
  },
  {
   "cell_type": "code",
   "execution_count": 66,
   "id": "b2191c46-eda7-48b5-ac06-b337f8e07e47",
   "metadata": {},
   "outputs": [
    {
     "ename": "NameError",
     "evalue": "name 'var1' is not defined",
     "output_type": "error",
     "traceback": [
      "\u001b[1;31m---------------------------------------------------------------------------\u001b[0m",
      "\u001b[1;31mNameError\u001b[0m                                 Traceback (most recent call last)",
      "Cell \u001b[1;32mIn[66], line 1\u001b[0m\n\u001b[1;32m----> 1\u001b[0m var1\n",
      "\u001b[1;31mNameError\u001b[0m: name 'var1' is not defined"
     ]
    }
   ],
   "source": [
    "var1"
   ]
  },
  {
   "cell_type": "code",
   "execution_count": 67,
   "id": "3cef4f06-362e-4684-8a3f-ae21d66d9026",
   "metadata": {},
   "outputs": [
    {
     "ename": "NameError",
     "evalue": "name 'remove' is not defined",
     "output_type": "error",
     "traceback": [
      "\u001b[1;31m---------------------------------------------------------------------------\u001b[0m",
      "\u001b[1;31mNameError\u001b[0m                                 Traceback (most recent call last)",
      "Cell \u001b[1;32mIn[67], line 1\u001b[0m\n\u001b[1;32m----> 1\u001b[0m remove(l1)\n",
      "\u001b[1;31mNameError\u001b[0m: name 'remove' is not defined"
     ]
    }
   ],
   "source": [
    "remove(l1)"
   ]
  },
  {
   "cell_type": "code",
   "execution_count": null,
   "id": "c588e966-66cb-44ba-9947-1e0766cf3627",
   "metadata": {},
   "outputs": [],
   "source": []
  }
 ],
 "metadata": {
  "kernelspec": {
   "display_name": "Python 3 (ipykernel)",
   "language": "python",
   "name": "python3"
  },
  "language_info": {
   "codemirror_mode": {
    "name": "ipython",
    "version": 3
   },
   "file_extension": ".py",
   "mimetype": "text/x-python",
   "name": "python",
   "nbconvert_exporter": "python",
   "pygments_lexer": "ipython3",
   "version": "3.11.7"
  }
 },
 "nbformat": 4,
 "nbformat_minor": 5
}
